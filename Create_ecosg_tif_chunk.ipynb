{
  "nbformat": 4,
  "nbformat_minor": 0,
  "metadata": {
    "colab": {
      "name": "Untitled52.ipynb",
      "provenance": []
    },
    "kernelspec": {
      "name": "python3",
      "display_name": "Python 3"
    },
    "language_info": {
      "name": "python"
    }
  },
  "cells": [
    {
      "cell_type": "code",
      "source": [
        "# Declare libraries"
      ],
      "metadata": {
        "id": "ezfwmPdbyROX"
      },
      "execution_count": 9,
      "outputs": []
    },
    {
      "cell_type": "code",
      "execution_count": 10,
      "metadata": {
        "id": "oxsULmNEwGrV"
      },
      "outputs": [],
      "source": [
        "import gdal"
      ]
    },
    {
      "cell_type": "markdown",
      "source": [
        "# Declare input/output filenames"
      ],
      "metadata": {
        "id": "-KrucbOxyhnn"
      }
    },
    {
      "cell_type": "code",
      "source": [
        "input_fn='/content/drive/MyDrive/ECOCLIMAP_SG/ecosg_final_map.dir'\n",
        "output_fn='ecosgcut.tif'"
      ],
      "metadata": {
        "id": "xzb-_TV6xN1_"
      },
      "execution_count": 11,
      "outputs": []
    },
    {
      "cell_type": "markdown",
      "source": [
        "# Declare function"
      ],
      "metadata": {
        "id": "U2nG8o7YyOQK"
      }
    },
    {
      "cell_type": "code",
      "source": [
        "def cutSG(fnSG,outfn,latmin=79,latmax=89.99,\n",
        "          lonmin=-180,lonmax=90,proj='EPSG:4326'):\n",
        "  src_fn=fnameSG\n",
        "  ds=gdal.Open(src_fn)\n",
        "  gdal.Translate(outfn,ds,\n",
        "               projWin=[lonmin,latmax,lonmax,latmin], \n",
        "               projWinSRS=proj)"
      ],
      "metadata": {
        "id": "IgdQm0iNw2yU"
      },
      "execution_count": 12,
      "outputs": []
    },
    {
      "cell_type": "code",
      "source": [
        ""
      ],
      "metadata": {
        "id": "O5_67k-EzH4U"
      },
      "execution_count": null,
      "outputs": []
    },
    {
      "cell_type": "markdown",
      "source": [
        "# Run cut algorithm"
      ],
      "metadata": {
        "id": "cuvjBlwlyleC"
      }
    },
    {
      "cell_type": "code",
      "source": [
        "cutSG(input_fn,output_fn)"
      ],
      "metadata": {
        "id": "zsI_7AXNygwI"
      },
      "execution_count": 13,
      "outputs": []
    }
  ]
}