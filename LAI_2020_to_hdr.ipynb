{
  "nbformat": 4,
  "nbformat_minor": 0,
  "metadata": {
    "kernelspec": {
      "display_name": "Python 2",
      "language": "python",
      "name": "python2"
    },
    "language_info": {
      "codemirror_mode": {
        "name": "ipython",
        "version": 2
      },
      "file_extension": ".py",
      "mimetype": "text/x-python",
      "name": "python",
      "nbconvert_exporter": "python",
      "pygments_lexer": "ipython2",
      "version": "2.7.5"
    },
    "colab": {
      "name": "LAI_2020_to_hdr.ipynb",
      "provenance": [],
      "include_colab_link": true
    }
  },
  "cells": [
    {
      "cell_type": "markdown",
      "metadata": {
        "id": "view-in-github",
        "colab_type": "text"
      },
      "source": [
        "<a href=\"https://colab.research.google.com/github/gbessardon/LAI_treatement/blob/main/LAI_2020_to_hdr.ipynb\" target=\"_parent\"><img src=\"https://colab.research.google.com/assets/colab-badge.svg\" alt=\"Open In Colab\"/></a>"
      ]
    },
    {
      "cell_type": "code",
      "metadata": {
        "id": "kfA0H8zVwswx"
      },
      "source": [
        "direcosg='/content/drive/MyDrive/ECOCLIMAP_SG/300M' # ECOSG LAI folder\n",
        "dire='/content/drive/MyDrive/LAI_data/LAI_2019'# yearly Copernicus LAI data folder\n",
        "suffix='LAI_2020_to_hdr_outputs' #subdirectory name where the produced files will be saved"
      ],
      "execution_count": null,
      "outputs": []
    },
    {
      "cell_type": "code",
      "metadata": {
        "id": "Vt_UnR0oWxNv",
        "colab": {
          "base_uri": "https://localhost:8080/"
        },
        "outputId": "dc50e372-d1bd-427a-a749-295ce1d6a0e0"
      },
      "source": [
        "from google.colab import drive\n",
        "drive.mount('/content/drive')"
      ],
      "execution_count": 1,
      "outputs": [
        {
          "output_type": "stream",
          "text": [
            "Drive already mounted at /content/drive; to attempt to forcibly remount, call drive.mount(\"/content/drive\", force_remount=True).\n"
          ],
          "name": "stdout"
        }
      ]
    },
    {
      "cell_type": "code",
      "metadata": {
        "id": "ZRcmH8H5WqxF"
      },
      "source": [
        "from osgeo import gdal,gdalconst\n",
        "import matplotlib.pyplot as plt\n",
        "import numpy as np\n",
        "import os\n",
        "import geopandas as gpd\n",
        "import pandas as pd\n",
        "import matplotlib.colors as colors\n",
        "from sys import argv"
      ],
      "execution_count": 2,
      "outputs": []
    },
    {
      "cell_type": "code",
      "metadata": {
        "id": "7kKFWnNoWqxI"
      },
      "source": [
        "def create_folder(path):\n",
        "    \n",
        "    exists =  os.path.exists(path) #check if the folder exists\n",
        "    \n",
        "    if exists == False:\n",
        "        \n",
        "        os.mkdir(path) #create the folder if it doesnt already exist"
      ],
      "execution_count": 3,
      "outputs": []
    },
    {
      "cell_type": "code",
      "metadata": {
        "id": "YF3IkEPKWqxI"
      },
      "source": [
        "def get_data(fname):\n",
        "\n",
        "    gdal.UseExceptions()\n",
        "    ds = gdal.Open(fname)\n",
        "    data = ds.ReadAsArray()\n",
        "    gt = ds.GetGeoTransform()\n",
        "    #\n",
        "    #\n",
        "    #\n",
        "    xres = gt[1]\n",
        "    yres = gt[5]\n",
        "    #\n",
        "    xmin = gt[0]\n",
        "    ymin = gt[3]\n",
        "    #\n",
        "    xmax = gt[0] + (xres * ds.RasterXSize)\n",
        "    ymax = gt[3] + (yres * ds.RasterYSize)\n",
        "#    else:\n",
        "#        xmax = gt[0] + (xres * ds.RasterXSize) \n",
        "#        ymax = gt[3] + (yres * ds.RasterYSize) \n",
        "\n",
        "\n",
        "    X=np.arange(xmin+xres,xmax+xres,xres)\n",
        "    Y=np.arange(ymin+yres,ymax+yres,yres)\n",
        "\n",
        "    return (X,Y,data,ds)"
      ],
      "execution_count": 4,
      "outputs": []
    },
    {
      "cell_type": "code",
      "metadata": {
        "id": "320DMdoQWqxJ"
      },
      "source": [
        "def Create_copernicus_corect_projection(fn,fnecosg,dst_filename = 'temp_ecosg.tiff'):\n",
        "    # create a temporary file with the ECO-SG file projection\n",
        "    #Open the Copernicus tiff file\n",
        "    src=gdal.Open(fn)\n",
        "    src_proj = src.GetProjection()\n",
        "    src_geotrans = src.GetGeoTransform()\n",
        "    xmax = src_geotrans[0] + (src_geotrans[1] * src.RasterXSize)\n",
        "    ymax = src_geotrans[3] + (src_geotrans[5] * src.RasterYSize)\n",
        "\n",
        "    #Open the ecosg file to get the projection details\n",
        "    match_filename = fnecosg\n",
        "    match_ds = gdal.Open(match_filename)\n",
        "    match_proj = match_ds.GetProjection()\n",
        "    match_geotrans = match_ds.GetGeoTransform()\n",
        "    match_geotrans=(src_geotrans[0],match_geotrans[1],match_geotrans[2],src_geotrans[3],match_geotrans[4],match_geotrans[5])\n",
        "    wide = int((xmax-match_geotrans[0])/match_geotrans[1])\n",
        "    high = int((ymax-match_geotrans[3])/match_geotrans[5])\n",
        "\n",
        "    #Create the Copernicus tiff file with the right projection\n",
        "    #dst_filename = 'temp_ecosg.tiff'\n",
        "    dst = gdal.GetDriverByName('GTiff').Create(dst_filename, wide, high, 1, gdal.GDT_Byte)\n",
        "    dst.SetGeoTransform( match_geotrans )\n",
        "    dst.SetProjection( match_proj)\n",
        "\n",
        "    # Do the work\n",
        "    gdal.ReprojectImage(src, dst, src_proj, match_proj, gdalconst.GRA_Bilinear)\n",
        "\n",
        "    del dst\n",
        "    return(dst_filename)"
      ],
      "execution_count": 5,
      "outputs": []
    },
    {
      "cell_type": "code",
      "metadata": {
        "id": "S5vRUpEKWqxJ"
      },
      "source": [
        "def overwriteECOSG_data(fnecosg,outFileName,fn2020):\n",
        "    #Open ECOCLIMAP_SG climatology data\n",
        "    (Xc,Yc,datac,dsc)=get_data(fnecosg)\n",
        "    [cols, rows] = datac.shape\n",
        "    # Overwrite ECO_SG data using the temp file\n",
        "    (X,Y,data2020,ds2020)=get_data(fn2020)\n",
        "    #data2020[data2020==255]=0 #no data\n",
        "    D2020=data2020/3 #scaling to ecosg scaling (Copernicus scaling 1/30 ecosg scaling 1/10)\n",
        "    gt2020=ds2020.GetGeoTransform()\n",
        "    idxmin=np.argmin(np.abs(Xc-gt2020[0]))\n",
        "    idymin=np.argmin(np.abs(Yc-gt2020[3]))\n",
        "    idxmax=idxmin+ds2020.RasterXSize\n",
        "    idymax=idymin+ds2020.RasterYSize\n",
        "    datac[idymin:idymax,idxmin:idxmax]=D2020\n",
        "    arr_out=datac\n",
        "    # Save the new data in the outputfile\n",
        "    outdata = dsc.GetDriver().Create(outFileName, rows, cols, 1, gdal.GDT_Byte)\n",
        "    outdata.SetGeoTransform(dsc.GetGeoTransform())##sets same geotransform as input\n",
        "    outdata.SetProjection(dsc.GetProjection())##sets same projection as input\n",
        "    outdata.GetRasterBand(1).WriteArray(arr_out)\n",
        "    #outdata.GetRasterBand(1).SetNoDataValue(10000)##if you want these values transparent\n",
        "    outdata.FlushCache() ##saves to disk!!\n",
        "    outdata = None\n",
        "    band=None\n",
        "    dsc=None\n",
        "    #Remove the temporay file\n",
        "    os.remove(fn2020)\n",
        "    #Array=gdal.Open(outFileName).ReadAsArray()\n",
        "    return"
      ],
      "execution_count": 6,
      "outputs": []
    },
    {
      "cell_type": "code",
      "metadata": {
        "id": "fggPBNEpWqxK"
      },
      "source": [
        "def alltogether(fn,fnecosg,outFileName):\n",
        "    fn2020=Create_copernicus_corect_projection(fn,fnecosg)\n",
        "    overwriteECOSG_data(fnecosg,outFileName,fn2020)"
      ],
      "execution_count": 7,
      "outputs": []
    },
    {
      "cell_type": "code",
      "metadata": {
        "id": "tV3O7YIKWqxL"
      },
      "source": [
        "\n",
        "year=dire.split('LAI_data/LAI_')[1][0:4] # depends on your directory path \n",
        "direm=[os.path.join(dire,d) for d in np.sort(os.listdir(dire)) if d.startswith(year)]# monthly Copernicus folder\n",
        "f10d=np.sort([os.path.join(direm,dm,f) for dm in direm for f in os.listdir(dm) if '-LAI_' in f])\n",
        "outputdir=os.path.join(dire,suffix)\n",
        "create_folder(outputdir)# Createoutputdir"
      ],
      "execution_count": 9,
      "outputs": []
    },
    {
      "cell_type": "code",
      "metadata": {
        "id": "y37pzYisWqxL"
      },
      "source": [
        "FNecosg=np.sort([os.path.join(direcosg,f) for f in os.listdir(direcosg) if f.endswith('c.dir_2')])"
      ],
      "execution_count": 10,
      "outputs": []
    },
    {
      "cell_type": "code",
      "metadata": {
        "id": "O9LvGXQPWqxM",
        "outputId": "fe20591d-93dc-42b3-c8fd-c5d3d816bd65",
        "colab": {
          "base_uri": "https://localhost:8080/"
        }
      },
      "source": [
        "for i,fnecosg in enumerate(FNecosg):\n",
        "    outFileName=fnecosg.replace(direcosg,outputdir)\n",
        "    fn=f10d[i]\n",
        "    alltogether(fn,fnecosg,outFileName)\n",
        "    print(outFileName)\n",
        "    print('....Created')"
      ],
      "execution_count": null,
      "outputs": [
        {
          "output_type": "stream",
          "text": [
            "/content/drive/MyDrive/LAI_data/LAI_2019/LAI_2020_to_hdr_outputs/LAI_0105_c.dir_2\n",
            "....Created\n",
            "/content/drive/MyDrive/LAI_data/LAI_2019/LAI_2020_to_hdr_outputs/LAI_0115_c.dir_2\n",
            "....Created\n",
            "/content/drive/MyDrive/LAI_data/LAI_2019/LAI_2020_to_hdr_outputs/LAI_0125_c.dir_2\n",
            "....Created\n",
            "/content/drive/MyDrive/LAI_data/LAI_2019/LAI_2020_to_hdr_outputs/LAI_0205_c.dir_2\n",
            "....Created\n",
            "/content/drive/MyDrive/LAI_data/LAI_2019/LAI_2020_to_hdr_outputs/LAI_0215_c.dir_2\n",
            "....Created\n",
            "/content/drive/MyDrive/LAI_data/LAI_2019/LAI_2020_to_hdr_outputs/LAI_0225_c.dir_2\n",
            "....Created\n",
            "/content/drive/MyDrive/LAI_data/LAI_2019/LAI_2020_to_hdr_outputs/LAI_0305_c.dir_2\n",
            "....Created\n",
            "/content/drive/MyDrive/LAI_data/LAI_2019/LAI_2020_to_hdr_outputs/LAI_0315_c.dir_2\n",
            "....Created\n",
            "/content/drive/MyDrive/LAI_data/LAI_2019/LAI_2020_to_hdr_outputs/LAI_0325_c.dir_2\n",
            "....Created\n",
            "/content/drive/MyDrive/LAI_data/LAI_2019/LAI_2020_to_hdr_outputs/LAI_0405_c.dir_2\n",
            "....Created\n",
            "/content/drive/MyDrive/LAI_data/LAI_2019/LAI_2020_to_hdr_outputs/LAI_0415_c.dir_2\n",
            "....Created\n",
            "/content/drive/MyDrive/LAI_data/LAI_2019/LAI_2020_to_hdr_outputs/LAI_0425_c.dir_2\n",
            "....Created\n",
            "/content/drive/MyDrive/LAI_data/LAI_2019/LAI_2020_to_hdr_outputs/LAI_0505_c.dir_2\n",
            "....Created\n",
            "/content/drive/MyDrive/LAI_data/LAI_2019/LAI_2020_to_hdr_outputs/LAI_0515_c.dir_2\n",
            "....Created\n",
            "/content/drive/MyDrive/LAI_data/LAI_2019/LAI_2020_to_hdr_outputs/LAI_0525_c.dir_2\n",
            "....Created\n",
            "/content/drive/MyDrive/LAI_data/LAI_2019/LAI_2020_to_hdr_outputs/LAI_0605_c.dir_2\n",
            "....Created\n"
          ],
          "name": "stdout"
        }
      ]
    }
  ]
}