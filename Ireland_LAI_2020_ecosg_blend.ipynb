{
 "cells": [
  {
   "cell_type": "code",
   "execution_count": 1,
   "metadata": {},
   "outputs": [],
   "source": [
    "from osgeo import gdal,gdalconst\n",
    "import os\n",
    "import matplotlib.pyplot as plt"
   ]
  },
  {
   "cell_type": "code",
   "execution_count": 2,
   "metadata": {},
   "outputs": [],
   "source": [
    "dire='/data/gbessardon/LAI_2017/LAI_2020_to_hdr_outputs'\n",
    "files=[os.path.join(dire,f) for f in os.listdir(dire) if f.endswith('.dir_22_c2')]\n",
    "fnecosg='/data/gbessardon/openECOCLIMAP_SG/ecosg_final_ireland.tif'"
   ]
  },
  {
   "cell_type": "code",
   "execution_count": 3,
   "metadata": {},
   "outputs": [],
   "source": [
    "def extract_ireland(fn,fnecosg):\n",
    "    dst_filename=fn.replace('.dir_22_c2','.tif')\n",
    "    src=gdal.Open(fn)\n",
    "    src_proj = src.GetProjection()\n",
    "    src_geotrans = src.GetGeoTransform()\n",
    "    xmax = src_geotrans[0] + (src_geotrans[1] * src.RasterXSize)\n",
    "    ymax = src_geotrans[3] + (src_geotrans[5] * src.RasterYSize)\n",
    "\n",
    "    match_filename = fnecosg\n",
    "    match_ds = gdal.Open(match_filename)\n",
    "    match_proj = match_ds.GetProjection()\n",
    "    match_geotrans = match_ds.GetGeoTransform()\n",
    "    #match_geotrans=(src_geotrans[0],match_geotrans[1],match_geotrans[2],src_geotrans[3],match_geotrans[4],match_geotrans[5])\n",
    "    wide = match_ds.RasterXSize\n",
    "    high = match_ds.RasterYSize\n",
    "\n",
    "    dst = gdal.GetDriverByName('GTiff').Create(dst_filename, wide, high, 1, gdal.GDT_Byte)\n",
    "    dst.SetGeoTransform( match_geotrans )\n",
    "    dst.SetProjection( match_proj)\n",
    "\n",
    "    # Do the work\n",
    "    gdal.ReprojectImage(src, dst, src_proj, match_proj, gdalconst.GRA_Bilinear)\n",
    "\n",
    "\n",
    "    del dst\n",
    "    print(dst_filename)"
   ]
  },
  {
   "cell_type": "code",
   "execution_count": 4,
   "metadata": {},
   "outputs": [
    {
     "name": "stdout",
     "output_type": "stream",
     "text": [
      "/data/gbessardon/LAI_2017/LAI_2020_to_hdr_outputs/LAI_0125_c.tif\n",
      "/data/gbessardon/LAI_2017/LAI_2020_to_hdr_outputs/LAI_0115_c.tif\n",
      "/data/gbessardon/LAI_2017/LAI_2020_to_hdr_outputs/LAI_0205_c.tif\n",
      "/data/gbessardon/LAI_2017/LAI_2020_to_hdr_outputs/LAI_0215_c.tif\n",
      "/data/gbessardon/LAI_2017/LAI_2020_to_hdr_outputs/LAI_0225_c.tif\n",
      "/data/gbessardon/LAI_2017/LAI_2020_to_hdr_outputs/LAI_0305_c.tif\n",
      "/data/gbessardon/LAI_2017/LAI_2020_to_hdr_outputs/LAI_0315_c.tif\n",
      "/data/gbessardon/LAI_2017/LAI_2020_to_hdr_outputs/LAI_0325_c.tif\n",
      "/data/gbessardon/LAI_2017/LAI_2020_to_hdr_outputs/LAI_0405_c.tif\n",
      "/data/gbessardon/LAI_2017/LAI_2020_to_hdr_outputs/LAI_0415_c.tif\n",
      "/data/gbessardon/LAI_2017/LAI_2020_to_hdr_outputs/LAI_0425_c.tif\n",
      "/data/gbessardon/LAI_2017/LAI_2020_to_hdr_outputs/LAI_0505_c.tif\n",
      "/data/gbessardon/LAI_2017/LAI_2020_to_hdr_outputs/LAI_0515_c.tif\n",
      "/data/gbessardon/LAI_2017/LAI_2020_to_hdr_outputs/LAI_0525_c.tif\n",
      "/data/gbessardon/LAI_2017/LAI_2020_to_hdr_outputs/LAI_0605_c.tif\n",
      "/data/gbessardon/LAI_2017/LAI_2020_to_hdr_outputs/LAI_0615_c.tif\n",
      "/data/gbessardon/LAI_2017/LAI_2020_to_hdr_outputs/LAI_0625_c.tif\n",
      "/data/gbessardon/LAI_2017/LAI_2020_to_hdr_outputs/LAI_0705_c.tif\n",
      "/data/gbessardon/LAI_2017/LAI_2020_to_hdr_outputs/LAI_0715_c.tif\n",
      "/data/gbessardon/LAI_2017/LAI_2020_to_hdr_outputs/LAI_0725_c.tif\n",
      "/data/gbessardon/LAI_2017/LAI_2020_to_hdr_outputs/LAI_0805_c.tif\n",
      "/data/gbessardon/LAI_2017/LAI_2020_to_hdr_outputs/LAI_0815_c.tif\n",
      "/data/gbessardon/LAI_2017/LAI_2020_to_hdr_outputs/LAI_0825_c.tif\n",
      "/data/gbessardon/LAI_2017/LAI_2020_to_hdr_outputs/LAI_0905_c.tif\n",
      "/data/gbessardon/LAI_2017/LAI_2020_to_hdr_outputs/LAI_0915_c.tif\n",
      "/data/gbessardon/LAI_2017/LAI_2020_to_hdr_outputs/LAI_0925_c.tif\n",
      "/data/gbessardon/LAI_2017/LAI_2020_to_hdr_outputs/LAI_1005_c.tif\n",
      "/data/gbessardon/LAI_2017/LAI_2020_to_hdr_outputs/LAI_1015_c.tif\n",
      "/data/gbessardon/LAI_2017/LAI_2020_to_hdr_outputs/LAI_1025_c.tif\n",
      "/data/gbessardon/LAI_2017/LAI_2020_to_hdr_outputs/LAI_1105_c.tif\n",
      "/data/gbessardon/LAI_2017/LAI_2020_to_hdr_outputs/LAI_1115_c.tif\n",
      "/data/gbessardon/LAI_2017/LAI_2020_to_hdr_outputs/LAI_1125_c.tif\n",
      "/data/gbessardon/LAI_2017/LAI_2020_to_hdr_outputs/LAI_1205_c.tif\n",
      "/data/gbessardon/LAI_2017/LAI_2020_to_hdr_outputs/LAI_1215_c.tif\n",
      "/data/gbessardon/LAI_2017/LAI_2020_to_hdr_outputs/LAI_1225_c.tif\n",
      "/data/gbessardon/LAI_2017/LAI_2020_to_hdr_outputs/LAI_0105_c.tif\n"
     ]
    },
    {
     "data": {
      "text/plain": [
       "[None,\n",
       " None,\n",
       " None,\n",
       " None,\n",
       " None,\n",
       " None,\n",
       " None,\n",
       " None,\n",
       " None,\n",
       " None,\n",
       " None,\n",
       " None,\n",
       " None,\n",
       " None,\n",
       " None,\n",
       " None,\n",
       " None,\n",
       " None,\n",
       " None,\n",
       " None,\n",
       " None,\n",
       " None,\n",
       " None,\n",
       " None,\n",
       " None,\n",
       " None,\n",
       " None,\n",
       " None,\n",
       " None,\n",
       " None,\n",
       " None,\n",
       " None,\n",
       " None,\n",
       " None,\n",
       " None,\n",
       " None]"
      ]
     },
     "execution_count": 4,
     "metadata": {},
     "output_type": "execute_result"
    }
   ],
   "source": [
    "[extract_ireland(fn,fnecosg) for fn in files]"
   ]
  },
  {
   "cell_type": "code",
   "execution_count": null,
   "metadata": {},
   "outputs": [],
   "source": []
  }
 ],
 "metadata": {
  "kernelspec": {
   "display_name": "Python 3",
   "language": "python",
   "name": "python3"
  },
  "language_info": {
   "codemirror_mode": {
    "name": "ipython",
    "version": 3
   },
   "file_extension": ".py",
   "mimetype": "text/x-python",
   "name": "python",
   "nbconvert_exporter": "python",
   "pygments_lexer": "ipython3",
   "version": "3.6.8"
  }
 },
 "nbformat": 4,
 "nbformat_minor": 4
}
