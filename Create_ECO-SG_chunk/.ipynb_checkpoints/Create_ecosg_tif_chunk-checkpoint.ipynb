{
 "cells": [
  {
   "cell_type": "code",
   "execution_count": 9,
   "metadata": {
    "id": "ezfwmPdbyROX"
   },
   "outputs": [],
   "source": [
    "# Declare libraries"
   ]
  },
  {
   "cell_type": "code",
   "execution_count": 10,
   "metadata": {
    "id": "oxsULmNEwGrV"
   },
   "outputs": [],
   "source": [
    "import gdal"
   ]
  },
  {
   "cell_type": "markdown",
   "metadata": {
    "id": "-KrucbOxyhnn"
   },
   "source": [
    "# Declare input/output filenames"
   ]
  },
  {
   "cell_type": "code",
   "execution_count": 11,
   "metadata": {
    "id": "xzb-_TV6xN1_"
   },
   "outputs": [],
   "source": [
    "input_fn='/content/drive/MyDrive/ECOCLIMAP_SG/ecosg_final_map.dir'\n",
    "output_fn='ecosgcut.tif'"
   ]
  },
  {
   "cell_type": "markdown",
   "metadata": {
    "id": "U2nG8o7YyOQK"
   },
   "source": [
    "# Declare function"
   ]
  },
  {
   "cell_type": "code",
   "execution_count": 12,
   "metadata": {
    "id": "IgdQm0iNw2yU"
   },
   "outputs": [],
   "source": [
    "def cutSG(fnSG,outfn,latmin=79,latmax=89.99,\n",
    "          lonmin=-180,lonmax=90,proj='EPSG:4326'):\n",
    "  src_fn=fnameSG\n",
    "  ds=gdal.Open(src_fn)\n",
    "  gdal.Translate(outfn,ds,\n",
    "               projWin=[lonmin,latmax,lonmax,latmin], \n",
    "               projWinSRS=proj)"
   ]
  },
  {
   "cell_type": "code",
   "execution_count": null,
   "metadata": {
    "id": "O5_67k-EzH4U"
   },
   "outputs": [],
   "source": []
  },
  {
   "cell_type": "markdown",
   "metadata": {
    "id": "cuvjBlwlyleC"
   },
   "source": [
    "# Run cut algorithm"
   ]
  },
  {
   "cell_type": "code",
   "execution_count": 13,
   "metadata": {
    "id": "zsI_7AXNygwI"
   },
   "outputs": [],
   "source": [
    "cutSG(input_fn,output_fn)"
   ]
  }
 ],
 "metadata": {
  "colab": {
   "name": "Untitled52.ipynb",
   "provenance": []
  },
  "kernelspec": {
   "display_name": "Python 3",
   "language": "python",
   "name": "python3"
  },
  "language_info": {
   "codemirror_mode": {
    "name": "ipython",
    "version": 3
   },
   "file_extension": ".py",
   "mimetype": "text/x-python",
   "name": "python",
   "nbconvert_exporter": "python",
   "pygments_lexer": "ipython3",
   "version": "3.6.8"
  }
 },
 "nbformat": 4,
 "nbformat_minor": 1
}
