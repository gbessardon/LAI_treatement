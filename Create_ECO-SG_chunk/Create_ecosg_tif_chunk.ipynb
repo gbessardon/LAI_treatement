{
  "cells": [
    {
      "cell_type": "markdown",
      "metadata": {
        "id": "view-in-github",
        "colab_type": "text"
      },
      "source": [
        "<a href=\"https://colab.research.google.com/github/gbessardon/LAI_treatement/blob/main/Create_ECO-SG_chunk/Create_ecosg_tif_chunk.ipynb\" target=\"_parent\"><img src=\"https://colab.research.google.com/assets/colab-badge.svg\" alt=\"Open In Colab\"/></a>"
      ]
    },
    {
      "cell_type": "markdown",
      "source": [
        "# if running in google colab"
      ],
      "metadata": {
        "id": "geNHa_5it8MG"
      }
    },
    {
      "cell_type": "code",
      "source": [
        "colab=1\n",
        "if colab==1:\n",
        "  from google.colab import drive\n",
        "  drive.mount('/content/drive')"
      ],
      "metadata": {
        "id": "RL0WGZoDtytY",
        "outputId": "16044fe9-741a-4cc0-fea0-78073658c58e",
        "colab": {
          "base_uri": "https://localhost:8080/"
        }
      },
      "execution_count": 1,
      "outputs": [
        {
          "output_type": "stream",
          "name": "stdout",
          "text": [
            "Drive already mounted at /content/drive; to attempt to forcibly remount, call drive.mount(\"/content/drive\", force_remount=True).\n"
          ]
        }
      ]
    },
    {
      "cell_type": "markdown",
      "source": [
        "# Declare libraries"
      ],
      "metadata": {
        "id": "DSGwkthHt0v_"
      }
    },
    {
      "cell_type": "code",
      "execution_count": 2,
      "metadata": {
        "id": "oxsULmNEwGrV"
      },
      "outputs": [],
      "source": [
        "import gdal\n",
        "from osgeo import gdalconst"
      ]
    },
    {
      "cell_type": "markdown",
      "metadata": {
        "id": "-KrucbOxyhnn"
      },
      "source": [
        "# Declare input/output filenames"
      ]
    },
    {
      "cell_type": "code",
      "execution_count": 3,
      "metadata": {
        "id": "xzb-_TV6xN1_"
      },
      "outputs": [],
      "source": [
        "ECOSGinput='/content/drive/MyDrive/ECOCLIMAP_SG/ecosg_final_map.dir'\n",
        "MODISinput='/content/drive/MyDrive/MODIS_bolli/modis_lai_mym_v2_2012-2021_07.28.tif'# MODIS data\n",
        "\n",
        "ECOSGoutput='/content/drive/MyDrive/ECOCLIMAP_SG/ecosgcut.tif'\n",
        "MODISoutput='/content/drive/MyDrive/MODIS_bolli/modis_repojected.tif'"
      ]
    },
    {
      "cell_type": "markdown",
      "metadata": {
        "id": "U2nG8o7YyOQK"
      },
      "source": [
        "# Declare function"
      ]
    },
    {
      "cell_type": "markdown",
      "source": [
        "## Function to extract modis file extent"
      ],
      "metadata": {
        "id": "fQtOBPyd813C"
      }
    },
    {
      "cell_type": "code",
      "source": [
        "def extractextent(fnmodis):\n",
        "  jsoninfo=gdal.Info(fnmodis,format='json')\n",
        "  EXTENT=jsoninfo.get('wgs84Extent')\n",
        "  xmax,ymax=EXTENT.get('coordinates')[0][0]\n",
        "  xmin,ymin=EXTENT.get('coordinates')[0][1]\n",
        "  return(xmax,ymax,xmin,ymin)"
      ],
      "metadata": {
        "id": "Rj0z-_FQu7U2"
      },
      "execution_count": 4,
      "outputs": []
    },
    {
      "cell_type": "markdown",
      "source": [
        "## Function to cut ECOSG betwen latmin,latmax,lonmin,lonmax"
      ],
      "metadata": {
        "id": "VPv9272k86ee"
      }
    },
    {
      "cell_type": "code",
      "execution_count": 22,
      "metadata": {
        "id": "IgdQm0iNw2yU"
      },
      "outputs": [],
      "source": [
        "def cutSG(fnSG,outfn,latmin=79,latmax=89.99,\n",
        "          lonmin=-180,lonmax=90,proj='EPSG:4326'):\n",
        "  src_fn=fnSG\n",
        "  ds=gdal.Open(src_fn)\n",
        "  gdal.Warp(outfn,ds,\n",
        "            outputBounds =(lonmin,latmin,lonmax,latmax), \n",
        "            dstSRS=proj)"
      ]
    },
    {
      "cell_type": "markdown",
      "source": [
        "## Function to reproject MODISfile following the ECOSG cutted file"
      ],
      "metadata": {
        "id": "ZW6VpI0q9JZb"
      }
    },
    {
      "cell_type": "code",
      "source": [
        " def reproject_modis(MODISfile,fnecosg,dst_filename):  \n",
        "    \n",
        "    src=gdal.Open(MODISfile)\n",
        "    src_proj = src.GetProjection()\n",
        "    src_geotrans = src.GetGeoTransform()\n",
        "\n",
        "    #Open the ecosg file to get the projection details\n",
        "    match_filename = fnecosg\n",
        "    match_ds = gdal.Open(match_filename)\n",
        "    match_proj = match_ds.GetProjection()\n",
        "    match_geotrans = match_ds.GetGeoTransform()\n",
        "    wide = match_ds.RasterXSize\n",
        "    high = match_ds.RasterYSize\n",
        "\n",
        "    #Create the MODIS tiff file with the right projection\n",
        "    dst = gdal.GetDriverByName('GTiff').Create(dst_filename, wide, high, 1, gdal.GDT_Byte)\n",
        "    dst.SetGeoTransform( match_geotrans )\n",
        "    dst.SetProjection( match_proj)\n",
        "    gdal.ReprojectImage(src, dst, src_proj, match_proj, gdalconst.GRA_Bilinear)\n",
        "\n",
        "    del dst\n",
        "    return"
      ],
      "metadata": {
        "id": "SrjlbJ0k6vnw"
      },
      "execution_count": 6,
      "outputs": []
    },
    {
      "cell_type": "markdown",
      "metadata": {
        "id": "cuvjBlwlyleC"
      },
      "source": [
        "# Main"
      ]
    },
    {
      "cell_type": "markdown",
      "source": [
        "## Extract modis file extent"
      ],
      "metadata": {
        "id": "EQasSJcq9XtO"
      }
    },
    {
      "cell_type": "code",
      "source": [
        "(xmax,ymax,xmin,ymin)=extractextent(MODISinput)"
      ],
      "metadata": {
        "id": "IbqLUP1Mv1iO"
      },
      "execution_count": 7,
      "outputs": []
    },
    {
      "cell_type": "markdown",
      "source": [
        "## Cut ECO-SG between modis extent"
      ],
      "metadata": {
        "id": "hJ5cHTQC9bnG"
      }
    },
    {
      "cell_type": "code",
      "execution_count": 23,
      "metadata": {
        "id": "zsI_7AXNygwI"
      },
      "outputs": [],
      "source": [
        "cutSG(ECOSGinput,ECOSGoutput,latmin=ymin,latmax=ymax,\n",
        "          lonmin=xmin,lonmax=xmax)"
      ]
    },
    {
      "cell_type": "markdown",
      "source": [
        "# Reproject modis"
      ],
      "metadata": {
        "id": "GcEJE8tr9l5r"
      }
    },
    {
      "cell_type": "code",
      "source": [
        "reproject_modis(MODISinput,ECOSGoutput,MODISoutput)"
      ],
      "metadata": {
        "id": "H8HH_hDY_vqs"
      },
      "execution_count": 24,
      "outputs": []
    },
    {
      "cell_type": "markdown",
      "source": [
        "# Check output"
      ],
      "metadata": {
        "id": "xSf-X1K3DsWN"
      }
    },
    {
      "cell_type": "code",
      "source": [
        "gdal.Info(MODISoutput,format='json')"
      ],
      "metadata": {
        "id": "StafHMFlDmQe",
        "outputId": "d192a186-4f07-4e7c-b48f-ffb88cfd1e23",
        "colab": {
          "base_uri": "https://localhost:8080/"
        }
      },
      "execution_count": 25,
      "outputs": [
        {
          "output_type": "execute_result",
          "data": {
            "text/plain": [
              "{'bands': [{'band': 1,\n",
              "   'block': [84451, 1],\n",
              "   'colorInterpretation': 'Gray',\n",
              "   'metadata': {},\n",
              "   'type': 'Byte'}],\n",
              " 'coordinateSystem': {'wkt': 'GEOGCS[\"WGS 84\",\\n    DATUM[\"WGS_1984\",\\n        SPHEROID[\"WGS 84\",6378137,298.257223563,\\n            AUTHORITY[\"EPSG\",\"7030\"]],\\n        AUTHORITY[\"EPSG\",\"6326\"]],\\n    PRIMEM[\"Greenwich\",0],\\n    UNIT[\"degree\",0.0174532925199433],\\n    AUTHORITY[\"EPSG\",\"4326\"]]'},\n",
              " 'cornerCoordinates': {'center': [55.0647343, 70.0],\n",
              "  'lowerLeft': [-62.2289531, 50.0],\n",
              "  'lowerRight': [172.3584217, 50.0],\n",
              "  'upperLeft': [-62.2289531, 90.0],\n",
              "  'upperRight': [172.3584217, 90.0]},\n",
              " 'description': '/content/drive/MyDrive/MODIS_bolli/modis_repojected.tif',\n",
              " 'driverLongName': 'GeoTIFF',\n",
              " 'driverShortName': 'GTiff',\n",
              " 'files': ['/content/drive/MyDrive/MODIS_bolli/modis_repojected.tif'],\n",
              " 'geoTransform': [-62.2289531,\n",
              "  0.002777792741353,\n",
              "  0.0,\n",
              "  90.0,\n",
              "  0.0,\n",
              "  -0.0027777777777778],\n",
              " 'metadata': {'': {'AREA_OR_POINT': 'Area'},\n",
              "  'IMAGE_STRUCTURE': {'INTERLEAVE': 'BAND'}},\n",
              " 'size': [84451, 14400],\n",
              " 'wgs84Extent': {'coordinates': [[[-62.2289531, 90.0],\n",
              "    [-62.2289531, 50.0],\n",
              "    [172.3584217, 50.0],\n",
              "    [172.3584217, 90.0],\n",
              "    [-62.2289531, 90.0]]],\n",
              "  'type': 'Polygon'}}"
            ]
          },
          "metadata": {},
          "execution_count": 25
        }
      ]
    },
    {
      "cell_type": "code",
      "source": [
        "gdal.Info(ECOSGoutput,format='json')"
      ],
      "metadata": {
        "id": "gTk8Yt2ADvLs",
        "outputId": "344a0285-4284-4ce2-f300-ddd14bd7a958",
        "colab": {
          "base_uri": "https://localhost:8080/"
        }
      },
      "execution_count": 26,
      "outputs": [
        {
          "output_type": "execute_result",
          "data": {
            "text/plain": [
              "{'bands': [{'band': 1,\n",
              "   'block': [84451, 1],\n",
              "   'colorInterpretation': 'Gray',\n",
              "   'metadata': {},\n",
              "   'noDataValue': 0.0,\n",
              "   'type': 'Byte'}],\n",
              " 'coordinateSystem': {'wkt': 'GEOGCS[\"WGS 84\",\\n    DATUM[\"WGS_1984\",\\n        SPHEROID[\"WGS 84\",6378137,298.257223563,\\n            AUTHORITY[\"EPSG\",\"7030\"]],\\n        AUTHORITY[\"EPSG\",\"6326\"]],\\n    PRIMEM[\"Greenwich\",0],\\n    UNIT[\"degree\",0.0174532925199433],\\n    AUTHORITY[\"EPSG\",\"4326\"]]'},\n",
              " 'cornerCoordinates': {'center': [55.0647343, 70.0],\n",
              "  'lowerLeft': [-62.2289531, 50.0],\n",
              "  'lowerRight': [172.3584217, 50.0],\n",
              "  'upperLeft': [-62.2289531, 90.0],\n",
              "  'upperRight': [172.3584217, 90.0]},\n",
              " 'description': '/content/drive/MyDrive/ECOCLIMAP_SG/ecosgcut.tif',\n",
              " 'driverLongName': 'GeoTIFF',\n",
              " 'driverShortName': 'GTiff',\n",
              " 'files': ['/content/drive/MyDrive/ECOCLIMAP_SG/ecosgcut.tif'],\n",
              " 'geoTransform': [-62.2289531,\n",
              "  0.002777792741353,\n",
              "  0.0,\n",
              "  90.0,\n",
              "  0.0,\n",
              "  -0.0027777777777778],\n",
              " 'metadata': {'': {'AREA_OR_POINT': 'Area'},\n",
              "  'IMAGE_STRUCTURE': {'INTERLEAVE': 'BAND'}},\n",
              " 'size': [84451, 14400],\n",
              " 'wgs84Extent': {'coordinates': [[[-62.2289531, 90.0],\n",
              "    [-62.2289531, 50.0],\n",
              "    [172.3584217, 50.0],\n",
              "    [172.3584217, 90.0],\n",
              "    [-62.2289531, 90.0]]],\n",
              "  'type': 'Polygon'}}"
            ]
          },
          "metadata": {},
          "execution_count": 26
        }
      ]
    }
  ],
  "metadata": {
    "colab": {
      "name": "Untitled52.ipynb",
      "provenance": [],
      "include_colab_link": true
    },
    "kernelspec": {
      "display_name": "Python 3",
      "language": "python",
      "name": "python3"
    },
    "language_info": {
      "codemirror_mode": {
        "name": "ipython",
        "version": 3
      },
      "file_extension": ".py",
      "mimetype": "text/x-python",
      "name": "python",
      "nbconvert_exporter": "python",
      "pygments_lexer": "ipython3",
      "version": "3.6.8"
    }
  },
  "nbformat": 4,
  "nbformat_minor": 0
}