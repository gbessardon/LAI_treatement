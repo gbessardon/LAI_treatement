{
  "cells": [
    {
      "cell_type": "markdown",
      "metadata": {
        "id": "view-in-github",
        "colab_type": "text"
      },
      "source": [
        "<a href=\"https://colab.research.google.com/github/gbessardon/LAI_treatement/blob/main/Create_ECO-SG_chunk/Create_ecosg_tif_chunk.ipynb\" target=\"_parent\"><img src=\"https://colab.research.google.com/assets/colab-badge.svg\" alt=\"Open In Colab\"/></a>"
      ]
    },
    {
      "cell_type": "markdown",
      "source": [
        "# if running in google colab"
      ],
      "metadata": {
        "id": "geNHa_5it8MG"
      }
    },
    {
      "cell_type": "code",
      "source": [
        "colab=1\n",
        "if colab==1:\n",
        "  from google.colab import drive\n",
        "  drive.mount('/content/drive')"
      ],
      "metadata": {
        "id": "RL0WGZoDtytY",
        "outputId": "c9219cca-67e6-447d-dd26-066ae46953de",
        "colab": {
          "base_uri": "https://localhost:8080/"
        }
      },
      "execution_count": 19,
      "outputs": [
        {
          "output_type": "stream",
          "name": "stdout",
          "text": [
            "Drive already mounted at /content/drive; to attempt to forcibly remount, call drive.mount(\"/content/drive\", force_remount=True).\n"
          ]
        }
      ]
    },
    {
      "cell_type": "markdown",
      "source": [
        "# Declare libraries"
      ],
      "metadata": {
        "id": "DSGwkthHt0v_"
      }
    },
    {
      "cell_type": "code",
      "execution_count": 45,
      "metadata": {
        "id": "oxsULmNEwGrV"
      },
      "outputs": [],
      "source": [
        "import gdal\n",
        "from osgeo import gdalconst\n",
        "import numpy as np\n",
        "import os"
      ]
    },
    {
      "cell_type": "markdown",
      "metadata": {
        "id": "-KrucbOxyhnn"
      },
      "source": [
        "# Declare input/output filenames"
      ]
    },
    {
      "cell_type": "code",
      "execution_count": 21,
      "metadata": {
        "id": "xzb-_TV6xN1_"
      },
      "outputs": [],
      "source": [
        "ECOSGinput='/content/drive/MyDrive/ECOCLIMAP_SG/ecosg_final_map.dir'\n",
        "MODISinput='/content/drive/MyDrive/MODIS_bolli/modis_lai_mym_v2_2012-2021_07.28.tif'# MODIS data\n",
        "LAIinput='/content/drive/MyDrive/LAI_treatment_exp/LAI_0725_c.dir_2'\n",
        "output_LAI='/content/drive/MyDrive/MODIS_bolli/LAI_0725_c.dir_2'"
      ]
    },
    {
      "cell_type": "markdown",
      "metadata": {
        "id": "U2nG8o7YyOQK"
      },
      "source": [
        "# Declare function"
      ]
    },
    {
      "cell_type": "markdown",
      "source": [
        "## Function to extract modis file extent"
      ],
      "metadata": {
        "id": "fQtOBPyd813C"
      }
    },
    {
      "cell_type": "code",
      "source": [
        "def extractmodisextent(fnmodis):\n",
        "  jsoninfo=gdal.Info(fnmodis,format='json')\n",
        "  EXTENT=jsoninfo.get('wgs84Extent')\n",
        "  xmax,ymax=EXTENT.get('coordinates')[0][0]\n",
        "  xmin,ymin=EXTENT.get('coordinates')[0][1]\n",
        "  return(xmax,ymax,xmin,ymin)"
      ],
      "metadata": {
        "id": "Rj0z-_FQu7U2"
      },
      "execution_count": 23,
      "outputs": []
    },
    {
      "cell_type": "code",
      "source": [
        "def extractECOSGextent(fnecosg):\n",
        "  ds=gdal.Open(fnecosg)\n",
        "  gt=ds.GetGeoTransform()\n",
        "  xres = gt[1]\n",
        "  yres = gt[5]\n",
        "#\n",
        "  xmin = gt[0]\n",
        "  ymax = gt[3]\n",
        "#\n",
        "  xmax = gt[0] + (xres * ds.RasterXSize)\n",
        "  ymin = gt[3] + (yres * ds.RasterYSize)\n",
        "  return(xmax,ymax,xmin,ymin)"
      ],
      "metadata": {
        "id": "gH0QOh6imQN7"
      },
      "execution_count": 24,
      "outputs": []
    },
    {
      "cell_type": "markdown",
      "source": [
        "## Function to cut ECOSG betwen latmin,latmax,lonmin,lonmax"
      ],
      "metadata": {
        "id": "VPv9272k86ee"
      }
    },
    {
      "cell_type": "code",
      "execution_count": 35,
      "metadata": {
        "id": "IgdQm0iNw2yU"
      },
      "outputs": [],
      "source": [
        "def cutSG(fnSG,outfn,latmin=79,latmax=89.99,\n",
        "          lonmin=-180,lonmax=90,proj='EPSG:4326'):\n",
        "  src_fn=fnSG\n",
        "  ds=gdal.Open(src_fn)\n",
        "  gt=ds.GetGeoTransform()\n",
        "  gdal.Warp(outfn,ds,\n",
        "            outputBounds =(lonmin,latmin,lonmax,latmax), \n",
        "            xRes=gt[1], yRes=gt[5],targetAlignedPixels=True,\n",
        "            dstSRS=proj)"
      ]
    },
    {
      "cell_type": "markdown",
      "source": [
        "## Function to reproject MODISfile following the ECOSG cutted file"
      ],
      "metadata": {
        "id": "ZW6VpI0q9JZb"
      }
    },
    {
      "cell_type": "code",
      "source": [
        " def reproject_modis(MODISfile,fnecosg,dst_filename):  \n",
        "    \n",
        "    src=gdal.Open(MODISfile)\n",
        "    src_proj = src.GetProjection()\n",
        "    src_geotrans = src.GetGeoTransform()\n",
        "\n",
        "    #Open the ecosg file to get the projection details\n",
        "    match_filename = fnecosg\n",
        "    match_ds = gdal.Open(match_filename)\n",
        "    match_proj = match_ds.GetProjection()\n",
        "    match_geotrans = match_ds.GetGeoTransform()\n",
        "    wide = match_ds.RasterXSize\n",
        "    high = match_ds.RasterYSize\n",
        "\n",
        "    #Create the MODIS tiff file with the right projection\n",
        "    dst = gdal.GetDriverByName('GTiff').Create(dst_filename, wide, high, 1, gdal.GDT_Byte)\n",
        "    dst.SetGeoTransform( match_geotrans )\n",
        "    dst.SetProjection( match_proj)\n",
        "    gdal.ReprojectImage(src, dst, src_proj, match_proj, gdalconst.GRA_Bilinear)\n",
        "\n",
        "    del dst\n",
        "    return"
      ],
      "metadata": {
        "id": "SrjlbJ0k6vnw"
      },
      "execution_count": 27,
      "outputs": []
    },
    {
      "cell_type": "markdown",
      "source": [
        "# Function to merge all data together"
      ],
      "metadata": {
        "id": "9QgzT7D5bRFs"
      }
    },
    {
      "cell_type": "code",
      "source": [
        "def mergetogether(INPUT_LIST,outputfiles):\n",
        "  ds=gdal.Open(INPUT_LIST[0])\n",
        "  driver=ds.GetDriver()\n",
        "  gt=ds.GetGeoTransform()\n",
        "  xres = gt[1]\n",
        "  yres = gt[5]\n",
        "  xmin = gt[0]\n",
        "  ymax = gt[3]\n",
        "#\n",
        "  xmax = gt[0] + (xres * ds.RasterXSize)\n",
        "  ymin = gt[3] + (yres * ds.RasterYSize)\n",
        "  w=ds.RasterXSize\n",
        "  h=ds.RasterYSize\n",
        "  dsv=gdal.BuildVRT('test.vrt',INPUT_FILES,\n",
        "                    outputBounds=(xmin, ymin, xmax, ymax), \n",
        "                    xRes=xres, yRes=yres, targetAlignedPixels=True)\n",
        "  opt=gdal.WarpOptions(format=driver.ShortName,\n",
        "                  outputBounds=(xmin, ymin, xmax, ymax),\n",
        "                  width=w,height=h)\n",
        "  gdal.Warp(outputfiles,'test.vrt',options=opt)\n",
        "  os.remove('test.vrt')"
      ],
      "metadata": {
        "id": "kJPb2UleYNvP"
      },
      "execution_count": null,
      "outputs": []
    },
    {
      "cell_type": "markdown",
      "metadata": {
        "id": "cuvjBlwlyleC"
      },
      "source": [
        "# Main"
      ]
    },
    {
      "cell_type": "code",
      "source": [
        "ECOSGoutput='temp.tif'\n",
        "MODISoutput='modis_repojected.tif'\n",
        "INPUT_FILES=[ECOSGinput,LAIinput,MODISoutput]"
      ],
      "metadata": {
        "id": "9LAaMiroadIh"
      },
      "execution_count": null,
      "outputs": []
    },
    {
      "cell_type": "markdown",
      "source": [
        "# Get the intersection between MODIS and ECOSG"
      ],
      "metadata": {
        "id": "smdxZK_L5vUr"
      }
    },
    {
      "cell_type": "markdown",
      "source": [
        "## Extract modis file extent"
      ],
      "metadata": {
        "id": "EQasSJcq9XtO"
      }
    },
    {
      "cell_type": "code",
      "source": [
        "(xmax,ymax,xmin,ymin)=extractmodisextent(MODISinput)"
      ],
      "metadata": {
        "id": "IbqLUP1Mv1iO"
      },
      "execution_count": 28,
      "outputs": []
    },
    {
      "cell_type": "markdown",
      "source": [
        "## Extract ecosg file extent"
      ],
      "metadata": {
        "id": "O-dSXbdj56An"
      }
    },
    {
      "cell_type": "code",
      "source": [
        "(xmaxsg,ymaxsg,xminsg,yminsg)=extractECOSGextent(ECOSGinput)"
      ],
      "metadata": {
        "id": "HaoSCC7elamT"
      },
      "execution_count": 29,
      "outputs": []
    },
    {
      "cell_type": "markdown",
      "source": [
        "# Get the intersction limits (avoids issue with extra points)"
      ],
      "metadata": {
        "id": "ouArQjl-5_NI"
      }
    },
    {
      "cell_type": "code",
      "source": [
        "XMIN=max(xmin,xminsg)\n",
        "YMIN=max(ymin,yminsg)\n",
        "XMAX=min(xmax,xmaxsg)\n",
        "YMAX=min(ymax,ymaxsg)\n"
      ],
      "metadata": {
        "id": "AGWXiVkllch7"
      },
      "execution_count": 30,
      "outputs": []
    },
    {
      "cell_type": "markdown",
      "source": [
        "## Cut ECO-SG between modis extent"
      ],
      "metadata": {
        "id": "hJ5cHTQC9bnG"
      }
    },
    {
      "cell_type": "code",
      "execution_count": 36,
      "metadata": {
        "id": "zsI_7AXNygwI"
      },
      "outputs": [],
      "source": [
        "cutSG(ECOSGinput,ECOSGoutput,latmin=YMIN,latmax=YMAX,\n",
        "          lonmin=XMIN,lonmax=XMAX)"
      ]
    },
    {
      "cell_type": "markdown",
      "source": [
        "# Reproject modis"
      ],
      "metadata": {
        "id": "GcEJE8tr9l5r"
      }
    },
    {
      "cell_type": "code",
      "source": [
        "reproject_modis(MODISinput,ECOSGoutput,MODISoutput)"
      ],
      "metadata": {
        "id": "H8HH_hDY_vqs"
      },
      "execution_count": 38,
      "outputs": []
    },
    {
      "cell_type": "markdown",
      "source": [
        "# Merge all the data together"
      ],
      "metadata": {
        "id": "2G4STteK6g-h"
      }
    },
    {
      "cell_type": "code",
      "source": [
        "mergetogether(INPUT_FILES,output_LAI)\n",
        "os.remove(ECOSGoutput)\n",
        "os.remove(MODISoutput)"
      ],
      "metadata": {
        "id": "mvHvL0C2YqGD"
      },
      "execution_count": null,
      "outputs": []
    }
  ],
  "metadata": {
    "colab": {
      "name": "Untitled52.ipynb",
      "provenance": [],
      "include_colab_link": true
    },
    "kernelspec": {
      "display_name": "Python 3",
      "language": "python",
      "name": "python3"
    },
    "language_info": {
      "codemirror_mode": {
        "name": "ipython",
        "version": 3
      },
      "file_extension": ".py",
      "mimetype": "text/x-python",
      "name": "python",
      "nbconvert_exporter": "python",
      "pygments_lexer": "ipython3",
      "version": "3.6.8"
    }
  },
  "nbformat": 4,
  "nbformat_minor": 0
}