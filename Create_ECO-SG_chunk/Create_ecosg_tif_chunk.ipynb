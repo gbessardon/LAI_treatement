{
  "cells": [
    {
      "cell_type": "markdown",
      "metadata": {
        "id": "view-in-github",
        "colab_type": "text"
      },
      "source": [
        "<a href=\"https://colab.research.google.com/github/gbessardon/LAI_treatement/blob/main/Create_ECO-SG_chunk/Create_ecosg_tif_chunk.ipynb\" target=\"_parent\"><img src=\"https://colab.research.google.com/assets/colab-badge.svg\" alt=\"Open In Colab\"/></a>"
      ]
    },
    {
      "cell_type": "markdown",
      "source": [
        "# if running in google colab"
      ],
      "metadata": {
        "id": "geNHa_5it8MG"
      }
    },
    {
      "cell_type": "code",
      "source": [
        "colab=1\n",
        "if colab==1:\n",
        "  from google.colab import drive\n",
        "  drive.mount('/content/drive')"
      ],
      "metadata": {
        "id": "RL0WGZoDtytY",
        "outputId": "96cb0dd8-7db8-4bc5-efd7-70bd303b3531",
        "colab": {
          "base_uri": "https://localhost:8080/"
        }
      },
      "execution_count": 1,
      "outputs": [
        {
          "output_type": "stream",
          "name": "stdout",
          "text": [
            "Mounted at /content/drive\n"
          ]
        }
      ]
    },
    {
      "cell_type": "markdown",
      "source": [
        "# Declare libraries"
      ],
      "metadata": {
        "id": "DSGwkthHt0v_"
      }
    },
    {
      "cell_type": "code",
      "execution_count": 2,
      "metadata": {
        "id": "oxsULmNEwGrV"
      },
      "outputs": [],
      "source": [
        "import gdal\n",
        "from osgeo import gdalconst\n",
        "import numpy as np\n",
        "import os"
      ]
    },
    {
      "cell_type": "markdown",
      "metadata": {
        "id": "-KrucbOxyhnn"
      },
      "source": [
        "# Declare input/output filenames"
      ]
    },
    {
      "cell_type": "code",
      "execution_count": 3,
      "metadata": {
        "id": "xzb-_TV6xN1_"
      },
      "outputs": [],
      "source": [
        "ECOSGinput='/content/drive/MyDrive/ECOCLIMAP_SG/ecosg_final_map.dir'\n",
        "MODISinput='/content/drive/MyDrive/MODIS_bolli/modis_lai_mym_v2_2012-2021_07.28.tif'# MODIS data\n",
        "LAIinput='/content/drive/MyDrive/LAI_treatment_exp/LAI_0725_c.dir_2'\n",
        "output_LAI='/content/drive/MyDrive/MODIS_bolli/LAI_0725_c.dir_2'"
      ]
    },
    {
      "cell_type": "markdown",
      "metadata": {
        "id": "U2nG8o7YyOQK"
      },
      "source": [
        "# Declare function"
      ]
    },
    {
      "cell_type": "markdown",
      "source": [
        "## Function to extract modis file extent"
      ],
      "metadata": {
        "id": "fQtOBPyd813C"
      }
    },
    {
      "cell_type": "code",
      "source": [
        "def extractmodisextent(fnmodis):\n",
        "  jsoninfo=gdal.Info(fnmodis,format='json')\n",
        "  EXTENT=jsoninfo.get('wgs84Extent')\n",
        "  xmax,ymax=EXTENT.get('coordinates')[0][0]\n",
        "  xmin,ymin=EXTENT.get('coordinates')[0][1]\n",
        "  return(xmax,ymax,xmin,ymin)"
      ],
      "metadata": {
        "id": "Rj0z-_FQu7U2"
      },
      "execution_count": 4,
      "outputs": []
    },
    {
      "cell_type": "code",
      "source": [
        "def extractECOSGextent(fnecosg):\n",
        "  ds=gdal.Open(fnecosg)\n",
        "  gt=ds.GetGeoTransform()\n",
        "  xres = gt[1]\n",
        "  yres = gt[5]\n",
        "#\n",
        "  xmin = gt[0]\n",
        "  ymax = gt[3]\n",
        "#\n",
        "  xmax = gt[0] + (xres * ds.RasterXSize)\n",
        "  ymin = gt[3] + (yres * ds.RasterYSize)\n",
        "  return(xmax,ymax,xmin,ymin)"
      ],
      "metadata": {
        "id": "gH0QOh6imQN7"
      },
      "execution_count": 5,
      "outputs": []
    },
    {
      "cell_type": "markdown",
      "source": [
        "## Function to cut ECOSG betwen latmin,latmax,lonmin,lonmax"
      ],
      "metadata": {
        "id": "VPv9272k86ee"
      }
    },
    {
      "cell_type": "code",
      "execution_count": 6,
      "metadata": {
        "id": "IgdQm0iNw2yU"
      },
      "outputs": [],
      "source": [
        "def cutSG(fnSG,outfn,latmin=79,latmax=89.99,\n",
        "          lonmin=-180,lonmax=90,proj='EPSG:4326'):\n",
        "  src_fn=fnSG\n",
        "  ds=gdal.Open(src_fn)\n",
        "  gt=ds.GetGeoTransform()\n",
        "  gdal.Warp(outfn,ds,\n",
        "            outputBounds =(lonmin,latmin,lonmax,latmax), \n",
        "            xRes=gt[1], yRes=gt[5],targetAlignedPixels=True,\n",
        "            dstSRS=proj)"
      ]
    },
    {
      "cell_type": "markdown",
      "source": [
        "## Function to reproject MODISfile following the ECOSG cutted file"
      ],
      "metadata": {
        "id": "ZW6VpI0q9JZb"
      }
    },
    {
      "cell_type": "code",
      "source": [
        " def reproject_modis(MODISfile,fnecosg,dst_filename):  \n",
        "    \n",
        "    src=gdal.Open(MODISfile)\n",
        "    src_proj = src.GetProjection()\n",
        "    src_geotrans = src.GetGeoTransform()\n",
        "\n",
        "    #Open the ecosg file to get the projection details\n",
        "    match_filename = fnecosg\n",
        "    match_ds = gdal.Open(match_filename)\n",
        "    match_proj = match_ds.GetProjection()\n",
        "    match_geotrans = match_ds.GetGeoTransform()\n",
        "    wide = match_ds.RasterXSize\n",
        "    high = match_ds.RasterYSize\n",
        "\n",
        "    #Create the MODIS tiff file with the right projection\n",
        "    dst = gdal.GetDriverByName('GTiff').Create(dst_filename, wide, high, 1, gdal.GDT_Byte)\n",
        "    dst.SetGeoTransform( match_geotrans )\n",
        "    dst.SetProjection( match_proj)\n",
        "    gdal.ReprojectImage(src, dst, src_proj, match_proj, gdalconst.GRA_Bilinear)\n",
        "\n",
        "    del dst\n",
        "    return"
      ],
      "metadata": {
        "id": "SrjlbJ0k6vnw"
      },
      "execution_count": 7,
      "outputs": []
    },
    {
      "cell_type": "markdown",
      "source": [
        "# Function to merge all data together"
      ],
      "metadata": {
        "id": "9QgzT7D5bRFs"
      }
    },
    {
      "cell_type": "code",
      "source": [
        "def mergetogether(INPUT_LIST,outputfiles):\n",
        "  ds=gdal.Open(INPUT_LIST[0])\n",
        "  driver=ds.GetDriver()\n",
        "  gt=ds.GetGeoTransform()\n",
        "  xres = gt[1]\n",
        "  yres = gt[5]\n",
        "  xmin = gt[0]\n",
        "  ymax = gt[3]\n",
        "#\n",
        "  xmax = gt[0] + (xres * ds.RasterXSize)\n",
        "  ymin = gt[3] + (yres * ds.RasterYSize)\n",
        "  w=ds.RasterXSize\n",
        "  h=ds.RasterYSize\n",
        "  dsv=gdal.BuildVRT('test.vrt',INPUT_FILES,\n",
        "                    outputBounds=(xmin, ymin, xmax, ymax), \n",
        "                    xRes=xres, yRes=yres, targetAlignedPixels=True)\n",
        "  opt=gdal.WarpOptions(format=driver.ShortName,\n",
        "                  outputBounds=(xmin, ymin, xmax, ymax),\n",
        "                  width=w,height=h)\n",
        "  gdal.Warp(outputfiles,'test.vrt',options=opt)\n",
        "  os.remove('test.vrt')"
      ],
      "metadata": {
        "id": "kJPb2UleYNvP"
      },
      "execution_count": 8,
      "outputs": []
    },
    {
      "cell_type": "markdown",
      "metadata": {
        "id": "cuvjBlwlyleC"
      },
      "source": [
        "# Main"
      ]
    },
    {
      "cell_type": "code",
      "source": [
        "ECOSGoutput='temp.tif'\n",
        "MODISoutput='modis_repojected.tif'\n",
        "INPUT_FILES=[ECOSGinput,LAIinput,MODISoutput]"
      ],
      "metadata": {
        "id": "9LAaMiroadIh"
      },
      "execution_count": 9,
      "outputs": []
    },
    {
      "cell_type": "markdown",
      "source": [
        "# Get the intersection between MODIS and ECOSG"
      ],
      "metadata": {
        "id": "smdxZK_L5vUr"
      }
    },
    {
      "cell_type": "markdown",
      "source": [
        "## Extract modis file extent"
      ],
      "metadata": {
        "id": "EQasSJcq9XtO"
      }
    },
    {
      "cell_type": "code",
      "source": [
        "(xmax,ymax,xmin,ymin)=extractmodisextent(MODISinput)"
      ],
      "metadata": {
        "id": "IbqLUP1Mv1iO"
      },
      "execution_count": 10,
      "outputs": []
    },
    {
      "cell_type": "markdown",
      "source": [
        "## Extract ecosg file extent"
      ],
      "metadata": {
        "id": "O-dSXbdj56An"
      }
    },
    {
      "cell_type": "code",
      "source": [
        "(xmaxsg,ymaxsg,xminsg,yminsg)=extractECOSGextent(ECOSGinput)"
      ],
      "metadata": {
        "id": "HaoSCC7elamT"
      },
      "execution_count": 11,
      "outputs": []
    },
    {
      "cell_type": "markdown",
      "source": [
        "# Get the intersction limits (avoids issue with extra points)"
      ],
      "metadata": {
        "id": "ouArQjl-5_NI"
      }
    },
    {
      "cell_type": "code",
      "source": [
        "XMIN=max(xmin,xminsg)\n",
        "YMIN=max(ymin,yminsg)\n",
        "XMAX=min(xmax,xmaxsg)\n",
        "YMAX=min(ymax,ymaxsg)\n"
      ],
      "metadata": {
        "id": "AGWXiVkllch7"
      },
      "execution_count": 12,
      "outputs": []
    },
    {
      "cell_type": "markdown",
      "source": [
        "## Cut ECO-SG between modis extent"
      ],
      "metadata": {
        "id": "hJ5cHTQC9bnG"
      }
    },
    {
      "cell_type": "code",
      "execution_count": 13,
      "metadata": {
        "id": "zsI_7AXNygwI"
      },
      "outputs": [],
      "source": [
        "cutSG(ECOSGinput,ECOSGoutput,latmin=YMIN,latmax=YMAX,\n",
        "          lonmin=XMIN,lonmax=XMAX)"
      ]
    },
    {
      "cell_type": "markdown",
      "source": [
        "# Reproject modis"
      ],
      "metadata": {
        "id": "GcEJE8tr9l5r"
      }
    },
    {
      "cell_type": "code",
      "source": [
        "reproject_modis(MODISinput,ECOSGoutput,MODISoutput)"
      ],
      "metadata": {
        "id": "H8HH_hDY_vqs"
      },
      "execution_count": 14,
      "outputs": []
    },
    {
      "cell_type": "markdown",
      "source": [
        "# Merge all the data together"
      ],
      "metadata": {
        "id": "2G4STteK6g-h"
      }
    },
    {
      "cell_type": "code",
      "source": [
        ""
      ],
      "metadata": {
        "id": "S0dQNH5SEbfC"
      },
      "execution_count": null,
      "outputs": []
    },
    {
      "cell_type": "code",
      "source": [
        "\n",
        "ds=gdal.Open(INPUT_FILES[0])\n",
        "driver=ds.GetDriver()\n",
        "gt=ds.GetGeoTransform()\n",
        "xres = gt[1]\n",
        "yres = gt[5]\n",
        "xmin = gt[0]\n",
        "ymax = gt[3]\n",
        "#\n",
        "xmax = gt[0] + (xres * ds.RasterXSize)\n",
        "ymin = gt[3] + (yres * ds.RasterYSize)\n",
        "w=ds.RasterXSize\n",
        "h=ds.RasterYSize\n",
        "dsv=gdal.BuildVRT('test.vrt',INPUT_FILES,\n",
        "                  outputBounds=(xmin, ymin, xmax, ymax))\n",
        "dsv.FlushCache()\n",
        "opt=gdal.WarpOptions(format=driver.ShortName,\n",
        "                  outputBounds=(xmin, ymin, xmax, ymax),\n",
        "                  width=w,height=h)\n",
        "gdal.Warp(output_LAI,dsv,options=opt)\n",
        "#os.remove('test.vrt')"
      ],
      "metadata": {
        "id": "35JqhKAnEb7h"
      },
      "execution_count": null,
      "outputs": []
    },
    {
      "cell_type": "code",
      "source": [
        ""
      ],
      "metadata": {
        "id": "QHLytlaDFsbi",
        "outputId": "a12356a7-83e1-4ce4-e5e0-12883e7c301d",
        "colab": {
          "base_uri": "https://localhost:8080/"
        }
      },
      "execution_count": 27,
      "outputs": [
        {
          "output_type": "execute_result",
          "data": {
            "text/plain": [
              "['/content/drive/MyDrive/ECOCLIMAP_SG/ecosg_final_map.dir',\n",
              " '/content/drive/MyDrive/LAI_treatment_exp/LAI_0725_c.dir_2',\n",
              " 'modis_repojected.tif']"
            ]
          },
          "metadata": {},
          "execution_count": 27
        }
      ]
    },
    {
      "cell_type": "code",
      "source": [
        "mergetogether(INPUT_FILES,output_LAI)\n",
        "os.remove(ECOSGoutput)\n",
        "os.remove(MODISoutput)"
      ],
      "metadata": {
        "id": "mvHvL0C2YqGD",
        "outputId": "f62c96fa-8278-4ae6-bcf1-373fd6245005",
        "colab": {
          "base_uri": "https://localhost:8080/",
          "height": 365
        }
      },
      "execution_count": 15,
      "outputs": [
        {
          "output_type": "error",
          "ename": "SystemError",
          "evalue": "ignored",
          "traceback": [
            "\u001b[0;31m---------------------------------------------------------------------------\u001b[0m",
            "\u001b[0;31mSystemError\u001b[0m                               Traceback (most recent call last)",
            "\u001b[0;32m<ipython-input-15-bbc553b602ce>\u001b[0m in \u001b[0;36m<module>\u001b[0;34m()\u001b[0m\n\u001b[0;32m----> 1\u001b[0;31m \u001b[0mmergetogether\u001b[0m\u001b[0;34m(\u001b[0m\u001b[0mINPUT_FILES\u001b[0m\u001b[0;34m,\u001b[0m\u001b[0moutput_LAI\u001b[0m\u001b[0;34m)\u001b[0m\u001b[0;34m\u001b[0m\u001b[0;34m\u001b[0m\u001b[0m\n\u001b[0m\u001b[1;32m      2\u001b[0m \u001b[0mos\u001b[0m\u001b[0;34m.\u001b[0m\u001b[0mremove\u001b[0m\u001b[0;34m(\u001b[0m\u001b[0mECOSGoutput\u001b[0m\u001b[0;34m)\u001b[0m\u001b[0;34m\u001b[0m\u001b[0;34m\u001b[0m\u001b[0m\n\u001b[1;32m      3\u001b[0m \u001b[0mos\u001b[0m\u001b[0;34m.\u001b[0m\u001b[0mremove\u001b[0m\u001b[0;34m(\u001b[0m\u001b[0mMODISoutput\u001b[0m\u001b[0;34m)\u001b[0m\u001b[0;34m\u001b[0m\u001b[0;34m\u001b[0m\u001b[0m\n",
            "\u001b[0;32m<ipython-input-8-45b8261cd5ea>\u001b[0m in \u001b[0;36mmergetogether\u001b[0;34m(INPUT_LIST, outputfiles)\u001b[0m\n\u001b[1;32m     18\u001b[0m                   \u001b[0moutputBounds\u001b[0m\u001b[0;34m=\u001b[0m\u001b[0;34m(\u001b[0m\u001b[0mxmin\u001b[0m\u001b[0;34m,\u001b[0m \u001b[0mymin\u001b[0m\u001b[0;34m,\u001b[0m \u001b[0mxmax\u001b[0m\u001b[0;34m,\u001b[0m \u001b[0mymax\u001b[0m\u001b[0;34m)\u001b[0m\u001b[0;34m,\u001b[0m\u001b[0;34m\u001b[0m\u001b[0;34m\u001b[0m\u001b[0m\n\u001b[1;32m     19\u001b[0m                   width=w,height=h)\n\u001b[0;32m---> 20\u001b[0;31m   \u001b[0mgdal\u001b[0m\u001b[0;34m.\u001b[0m\u001b[0mWarp\u001b[0m\u001b[0;34m(\u001b[0m\u001b[0moutputfiles\u001b[0m\u001b[0;34m,\u001b[0m\u001b[0;34m'test.vrt'\u001b[0m\u001b[0;34m,\u001b[0m\u001b[0moptions\u001b[0m\u001b[0;34m=\u001b[0m\u001b[0mopt\u001b[0m\u001b[0;34m)\u001b[0m\u001b[0;34m\u001b[0m\u001b[0;34m\u001b[0m\u001b[0m\n\u001b[0m\u001b[1;32m     21\u001b[0m   \u001b[0mos\u001b[0m\u001b[0;34m.\u001b[0m\u001b[0mremove\u001b[0m\u001b[0;34m(\u001b[0m\u001b[0;34m'test.vrt'\u001b[0m\u001b[0;34m)\u001b[0m\u001b[0;34m\u001b[0m\u001b[0;34m\u001b[0m\u001b[0m\n",
            "\u001b[0;32m/usr/local/lib/python3.7/dist-packages/osgeo/gdal.py\u001b[0m in \u001b[0;36mWarp\u001b[0;34m(destNameOrDestDS, srcDSOrSrcDSTab, **kwargs)\u001b[0m\n\u001b[1;32m    573\u001b[0m \u001b[0;34m\u001b[0m\u001b[0m\n\u001b[1;32m    574\u001b[0m     \u001b[0;32mif\u001b[0m \u001b[0m_is_str_or_unicode\u001b[0m\u001b[0;34m(\u001b[0m\u001b[0mdestNameOrDestDS\u001b[0m\u001b[0;34m)\u001b[0m\u001b[0;34m:\u001b[0m\u001b[0;34m\u001b[0m\u001b[0;34m\u001b[0m\u001b[0m\n\u001b[0;32m--> 575\u001b[0;31m         \u001b[0;32mreturn\u001b[0m \u001b[0mwrapper_GDALWarpDestName\u001b[0m\u001b[0;34m(\u001b[0m\u001b[0mdestNameOrDestDS\u001b[0m\u001b[0;34m,\u001b[0m \u001b[0msrcDSTab\u001b[0m\u001b[0;34m,\u001b[0m \u001b[0mopts\u001b[0m\u001b[0;34m,\u001b[0m \u001b[0mcallback\u001b[0m\u001b[0;34m,\u001b[0m \u001b[0mcallback_data\u001b[0m\u001b[0;34m)\u001b[0m\u001b[0;34m\u001b[0m\u001b[0;34m\u001b[0m\u001b[0m\n\u001b[0m\u001b[1;32m    576\u001b[0m     \u001b[0;32melse\u001b[0m\u001b[0;34m:\u001b[0m\u001b[0;34m\u001b[0m\u001b[0;34m\u001b[0m\u001b[0m\n\u001b[1;32m    577\u001b[0m         \u001b[0;32mreturn\u001b[0m \u001b[0mwrapper_GDALWarpDestDS\u001b[0m\u001b[0;34m(\u001b[0m\u001b[0mdestNameOrDestDS\u001b[0m\u001b[0;34m,\u001b[0m \u001b[0msrcDSTab\u001b[0m\u001b[0;34m,\u001b[0m \u001b[0mopts\u001b[0m\u001b[0;34m,\u001b[0m \u001b[0mcallback\u001b[0m\u001b[0;34m,\u001b[0m \u001b[0mcallback_data\u001b[0m\u001b[0;34m)\u001b[0m\u001b[0;34m\u001b[0m\u001b[0;34m\u001b[0m\u001b[0m\n",
            "\u001b[0;32m/usr/local/lib/python3.7/dist-packages/osgeo/gdal.py\u001b[0m in \u001b[0;36mwrapper_GDALWarpDestName\u001b[0;34m(*args)\u001b[0m\n\u001b[1;32m   3119\u001b[0m \u001b[0;32mdef\u001b[0m \u001b[0mwrapper_GDALWarpDestName\u001b[0m\u001b[0;34m(\u001b[0m\u001b[0;34m*\u001b[0m\u001b[0margs\u001b[0m\u001b[0;34m)\u001b[0m\u001b[0;34m:\u001b[0m\u001b[0;34m\u001b[0m\u001b[0;34m\u001b[0m\u001b[0m\n\u001b[1;32m   3120\u001b[0m     \u001b[0;34m\"\"\"wrapper_GDALWarpDestName(char const * dest, int object_list_count, GDALWarpAppOptions warpAppOptions, GDALProgressFunc callback=0, void * callback_data=None) -> Dataset\"\"\"\u001b[0m\u001b[0;34m\u001b[0m\u001b[0;34m\u001b[0m\u001b[0m\n\u001b[0;32m-> 3121\u001b[0;31m     \u001b[0;32mreturn\u001b[0m \u001b[0m_gdal\u001b[0m\u001b[0;34m.\u001b[0m\u001b[0mwrapper_GDALWarpDestName\u001b[0m\u001b[0;34m(\u001b[0m\u001b[0;34m*\u001b[0m\u001b[0margs\u001b[0m\u001b[0;34m)\u001b[0m\u001b[0;34m\u001b[0m\u001b[0;34m\u001b[0m\u001b[0m\n\u001b[0m\u001b[1;32m   3122\u001b[0m \u001b[0;32mclass\u001b[0m \u001b[0mGDALVectorTranslateOptions\u001b[0m\u001b[0;34m(\u001b[0m\u001b[0m_object\u001b[0m\u001b[0;34m)\u001b[0m\u001b[0;34m:\u001b[0m\u001b[0;34m\u001b[0m\u001b[0;34m\u001b[0m\u001b[0m\n\u001b[1;32m   3123\u001b[0m     \u001b[0;34m\"\"\"Proxy of C++ GDALVectorTranslateOptions class.\"\"\"\u001b[0m\u001b[0;34m\u001b[0m\u001b[0;34m\u001b[0m\u001b[0m\n",
            "\u001b[0;31mSystemError\u001b[0m: <built-in function wrapper_GDALWarpDestName> returned NULL without setting an error"
          ]
        }
      ]
    }
  ],
  "metadata": {
    "colab": {
      "name": "Untitled52.ipynb",
      "provenance": [],
      "include_colab_link": true
    },
    "kernelspec": {
      "display_name": "Python 3",
      "language": "python",
      "name": "python3"
    },
    "language_info": {
      "codemirror_mode": {
        "name": "ipython",
        "version": 3
      },
      "file_extension": ".py",
      "mimetype": "text/x-python",
      "name": "python",
      "nbconvert_exporter": "python",
      "pygments_lexer": "ipython3",
      "version": "3.6.8"
    }
  },
  "nbformat": 4,
  "nbformat_minor": 0
}