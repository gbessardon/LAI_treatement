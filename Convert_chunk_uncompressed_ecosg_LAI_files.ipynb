{
  "cells": [
    {
      "cell_type": "markdown",
      "metadata": {
        "id": "view-in-github",
        "colab_type": "text"
      },
      "source": [
        "<a href=\"https://colab.research.google.com/github/gbessardon/LAI_treatement/blob/main/Convert_chunk_uncompressed_ecosg_LAI_files.ipynb\" target=\"_parent\"><img src=\"https://colab.research.google.com/assets/colab-badge.svg\" alt=\"Open In Colab\"/></a>"
      ]
    },
    {
      "cell_type": "markdown",
      "metadata": {
        "id": "bvp81c-P6MKZ"
      },
      "source": [
        "# Script to convert and chunk uncompressed files output from uncompress_file_300m.F90 ('.dir_2')\n"
      ]
    },
    {
      "cell_type": "markdown",
      "source": [
        "## if running in google colab with google drive stroage"
      ],
      "metadata": {
        "id": "lYEGEciqBf4H"
      }
    },
    {
      "cell_type": "code",
      "source": [
        "googledrive=1"
      ],
      "metadata": {
        "id": "wfZzpN00Bt2i"
      },
      "execution_count": null,
      "outputs": []
    },
    {
      "cell_type": "code",
      "source": [
        "if googledrive==1:\n",
        "  from google.colab import drive\n",
        "  drive.mount('/content/drive')"
      ],
      "metadata": {
        "id": "La37n5bo6Udb",
        "outputId": "3ca9569c-90b8-4ef6-b3f3-8725009faab4",
        "colab": {
          "base_uri": "https://localhost:8080/"
        }
      },
      "execution_count": 1,
      "outputs": [
        {
          "output_type": "stream",
          "name": "stdout",
          "text": [
            "Mounted at /content/drive\n"
          ]
        }
      ]
    },
    {
      "cell_type": "markdown",
      "metadata": {
        "id": "htmpe2-V6MKi"
      },
      "source": [
        "# Import functions"
      ]
    },
    {
      "cell_type": "code",
      "execution_count": 2,
      "metadata": {
        "id": "mh_LsgQl6MKl"
      },
      "outputs": [],
      "source": [
        "from osgeo import gdal,gdalconst\n",
        "import os"
      ]
    },
    {
      "cell_type": "markdown",
      "metadata": {
        "id": "uPuLeJ256MKn"
      },
      "source": [
        "# Declare directories\n",
        "dire: folder contatining the output from cuncompress_file_300m.F90 (files ending with '.dir_22_c2')\n",
        "\n",
        "\n",
        "fnecosg: Example tif file covering the desired area "
      ]
    },
    {
      "cell_type": "code",
      "execution_count": 14,
      "metadata": {
        "id": "iyaJTZxD6MKq"
      },
      "outputs": [],
      "source": [
        "dire='/content/drive/MyDrive/LAI_treatment_exp'\n",
        "fnecosg='/content/drive/MyDrive/modis_lai_mym_v2_2012-2021_07.28.tif'"
      ]
    },
    {
      "cell_type": "markdown",
      "metadata": {
        "id": "_nu_g6mN6MKr"
      },
      "source": [
        "# Declare the function to extract the area"
      ]
    },
    {
      "cell_type": "code",
      "execution_count": 10,
      "metadata": {
        "id": "6HNsdKpx6MKt"
      },
      "outputs": [],
      "source": [
        "def extract_area(fn,fnecosg):\n",
        "    dst_filename=fn.replace('.dir_2','.tif')\n",
        "    src=gdal.Open(fn)\n",
        "    src_proj = src.GetProjection()\n",
        "    src_geotrans = src.GetGeoTransform()\n",
        "    xmax = src_geotrans[0] + (src_geotrans[1] * src.RasterXSize)\n",
        "    ymax = src_geotrans[3] + (src_geotrans[5] * src.RasterYSize)\n",
        "\n",
        "    match_filename = fnecosg\n",
        "    match_ds = gdal.Open(match_filename)\n",
        "    match_proj = match_ds.GetProjection()\n",
        "    match_geotrans = match_ds.GetGeoTransform()\n",
        "    wide = match_ds.RasterXSize\n",
        "    high = match_ds.RasterYSize\n",
        "\n",
        "    dst = gdal.GetDriverByName('GTiff').Create(dst_filename, wide, high, 1, gdal.GDT_Byte)\n",
        "    dst.SetGeoTransform( match_geotrans )\n",
        "    dst.SetProjection( match_proj)\n",
        "\n",
        "    # Do the work\n",
        "    gdal.ReprojectImage(src, dst, src_proj, match_proj, gdalconst.GRA_Bilinear)\n",
        "\n",
        "\n",
        "    del dst\n",
        "    print(dst_filename)"
      ]
    },
    {
      "cell_type": "markdown",
      "metadata": {
        "id": "8iIQb9GA6MKv"
      },
      "source": [
        "# MAIN"
      ]
    },
    {
      "cell_type": "markdown",
      "metadata": {
        "id": "MSri9GJX6MKx"
      },
      "source": [
        "## list all the files ending with '.dir_22_c2' in dire"
      ]
    },
    {
      "cell_type": "code",
      "execution_count": 15,
      "metadata": {
        "id": "brkuU5eP6MK1"
      },
      "outputs": [],
      "source": [
        "c2files=[os.path.join(dire,f) for f in os.listdir(dire) if f.endswith('.dir_2')]"
      ]
    },
    {
      "cell_type": "markdown",
      "metadata": {
        "id": "nAvDtDoA6MK6"
      },
      "source": [
        "## Run the the extract_area function for every '.dir_22_c2' listed in the c2files list"
      ]
    },
    {
      "cell_type": "code",
      "execution_count": 16,
      "metadata": {
        "colab": {
          "base_uri": "https://localhost:8080/"
        },
        "id": "HURNNmug6MK7",
        "outputId": "bd51967f-e1c2-4f67-c10a-d3f7e53e82df"
      },
      "outputs": [
        {
          "output_type": "stream",
          "name": "stdout",
          "text": [
            "/content/drive/MyDrive/LAI_treatment_exp/LAI_0725_c.tif\n"
          ]
        },
        {
          "output_type": "execute_result",
          "data": {
            "text/plain": [
              "[None]"
            ]
          },
          "metadata": {},
          "execution_count": 16
        }
      ],
      "source": [
        "[extract_area(fn,fnecosg) for fn in c2files]"
      ]
    },
    {
      "cell_type": "markdown",
      "source": [
        "# Check the info of one of the created file"
      ],
      "metadata": {
        "id": "ip-IBRIq8Zi0"
      }
    },
    {
      "cell_type": "code",
      "source": [
        "gdal.Info(c2files[0].replace('.dir_2','.tif'),format='json')"
      ],
      "metadata": {
        "id": "9P3foBuo8E2v",
        "outputId": "09d9f243-49f9-4e42-c0e2-92de7556b3d6",
        "colab": {
          "base_uri": "https://localhost:8080/"
        }
      },
      "execution_count": 19,
      "outputs": [
        {
          "output_type": "execute_result",
          "data": {
            "text/plain": [
              "{'bands': [{'band': 1,\n",
              "   'block': [14400, 1],\n",
              "   'colorInterpretation': 'Gray',\n",
              "   'metadata': {},\n",
              "   'type': 'Byte'}],\n",
              " 'coordinateSystem': {'wkt': 'PROJCS[\"unnamed\",\\n    GEOGCS[\"Unknown datum based upon the custom spheroid\",\\n        DATUM[\"Not_specified_based_on_custom_spheroid\",\\n            SPHEROID[\"Custom spheroid\",6371007.181,0]],\\n        PRIMEM[\"Greenwich\",0],\\n        UNIT[\"degree\",0.0174532925199433]],\\n    PROJECTION[\"Sinusoidal\"],\\n    PARAMETER[\"longitude_of_center\",0],\\n    PARAMETER[\"false_easting\",0],\\n    PARAMETER[\"false_northing\",0],\\n    UNIT[\"metre\",1,\\n        AUTHORITY[\"EPSG\",\"9001\"]]]'},\n",
              " 'cornerCoordinates': {'center': [-1111950.52, 7783653.638],\n",
              "  'lowerLeft': [-4447802.079, 5559752.598],\n",
              "  'lowerRight': [2223901.039, 5559752.598],\n",
              "  'upperLeft': [-4447802.079, 10007554.677],\n",
              "  'upperRight': [2223901.039, 10007554.677]},\n",
              " 'description': '/content/drive/MyDrive/LAI_treatment_exp/LAI_0725_c.tif',\n",
              " 'driverLongName': 'GeoTIFF',\n",
              " 'driverShortName': 'GTiff',\n",
              " 'files': ['/content/drive/MyDrive/LAI_treatment_exp/LAI_0725_c.tif'],\n",
              " 'geoTransform': [-4447802.078667,\n",
              "  463.3127165279167,\n",
              "  0.0,\n",
              "  10007554.677,\n",
              "  0.0,\n",
              "  -463.31271652749973],\n",
              " 'metadata': {'': {'AREA_OR_POINT': 'Area'},\n",
              "  'IMAGE_STRUCTURE': {'INTERLEAVE': 'BAND'}},\n",
              " 'size': [14400, 9600],\n",
              " 'wgs84Extent': {'coordinates': [[[172.3584217, 90.0],\n",
              "    [-62.2289531, 50.0],\n",
              "    [31.1144765, 50.0],\n",
              "    [93.9164038, 90.0],\n",
              "    [172.3584217, 90.0]]],\n",
              "  'type': 'Polygon'}}"
            ]
          },
          "metadata": {},
          "execution_count": 19
        }
      ]
    },
    {
      "cell_type": "code",
      "source": [
        "gdal.Info('/content/drive/MyDrive/modis_lai_mym_v2_2012-2021_07.28.tif',format='json')"
      ],
      "metadata": {
        "colab": {
          "base_uri": "https://localhost:8080/"
        },
        "id": "lCLvOJQq82AD",
        "outputId": "84220af8-0643-4e2e-edc3-2f546962a616"
      },
      "execution_count": 21,
      "outputs": [
        {
          "output_type": "execute_result",
          "data": {
            "text/plain": [
              "{'bands': [{'band': 1,\n",
              "   'block': [14400, 1],\n",
              "   'colorInterpretation': 'Gray',\n",
              "   'metadata': {},\n",
              "   'type': 'Byte'}],\n",
              " 'coordinateSystem': {'wkt': 'PROJCS[\"unnamed\",\\n    GEOGCS[\"Unknown datum based upon the custom spheroid\",\\n        DATUM[\"Not_specified_based_on_custom_spheroid\",\\n            SPHEROID[\"Custom spheroid\",6371007.181,0]],\\n        PRIMEM[\"Greenwich\",0],\\n        UNIT[\"degree\",0.0174532925199433]],\\n    PROJECTION[\"Sinusoidal\"],\\n    PARAMETER[\"longitude_of_center\",0],\\n    PARAMETER[\"false_easting\",0],\\n    PARAMETER[\"false_northing\",0],\\n    UNIT[\"metre\",1,\\n        AUTHORITY[\"EPSG\",\"9001\"]]]'},\n",
              " 'cornerCoordinates': {'center': [-1111950.52, 7783653.638],\n",
              "  'lowerLeft': [-4447802.079, 5559752.598],\n",
              "  'lowerRight': [2223901.039, 5559752.598],\n",
              "  'upperLeft': [-4447802.079, 10007554.677],\n",
              "  'upperRight': [2223901.039, 10007554.677]},\n",
              " 'description': '/content/drive/MyDrive/modis_lai_mym_v2_2012-2021_07.28.tif',\n",
              " 'driverLongName': 'GeoTIFF',\n",
              " 'driverShortName': 'GTiff',\n",
              " 'files': ['/content/drive/MyDrive/modis_lai_mym_v2_2012-2021_07.28.tif'],\n",
              " 'geoTransform': [-4447802.078667,\n",
              "  463.3127165279167,\n",
              "  0.0,\n",
              "  10007554.677,\n",
              "  0.0,\n",
              "  -463.31271652749973],\n",
              " 'metadata': {'': {'AREA_OR_POINT': 'Area'},\n",
              "  'IMAGE_STRUCTURE': {'INTERLEAVE': 'BAND'}},\n",
              " 'size': [14400, 9600],\n",
              " 'wgs84Extent': {'coordinates': [[[172.3584217, 90.0],\n",
              "    [-62.2289531, 50.0],\n",
              "    [31.1144765, 50.0],\n",
              "    [93.9164038, 90.0],\n",
              "    [172.3584217, 90.0]]],\n",
              "  'type': 'Polygon'}}"
            ]
          },
          "metadata": {},
          "execution_count": 21
        }
      ]
    }
  ],
  "metadata": {
    "kernelspec": {
      "display_name": "Python 3",
      "language": "python",
      "name": "python3"
    },
    "language_info": {
      "codemirror_mode": {
        "name": "ipython",
        "version": 3
      },
      "file_extension": ".py",
      "mimetype": "text/x-python",
      "name": "python",
      "nbconvert_exporter": "python",
      "pygments_lexer": "ipython3",
      "version": "3.6.8"
    },
    "colab": {
      "name": "Convert_chunk_uncompressed_ecosg_LAI_files.ipynb",
      "provenance": [],
      "include_colab_link": true
    }
  },
  "nbformat": 4,
  "nbformat_minor": 0
}